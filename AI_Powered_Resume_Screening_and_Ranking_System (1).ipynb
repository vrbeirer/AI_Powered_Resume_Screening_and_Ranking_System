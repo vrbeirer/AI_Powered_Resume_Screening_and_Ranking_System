{
 "cells": [
  {
   "cell_type": "code",
   "execution_count": null,
   "id": "86058d7f-751c-4c8e-abf7-3969d18fc92e",
   "metadata": {},
   "outputs": [],
   "source": [
    "import streamlit as st\n",
    "from PyPDF2 import PdfReader\n",
    "import pandas as pd\n",
    "import matplotlib.pyplot as plt\n",
    "from sklearn.feature_extraction.text import TfidfVectorizer\n",
    "from sklearn.metrics.pairwise import cosine_similarity"
   ]
  },
  {
   "cell_type": "code",
   "execution_count": null,
   "id": "4f194fb5-47ee-4f8f-bc84-48b778a7a2d5",
   "metadata": {},
   "outputs": [],
   "source": [
    "# Function to extract text from PDF\n",
    "\n",
    "def extract_text_from_pdf(file):\n",
    "    pdf = PdfReader(file)\n",
    "    text = \"\"\n",
    "    for page in pdf.pages:\n",
    "        text += page.extract_text() or \"\"\n",
    "    return text\n"
   ]
  },
  {
   "cell_type": "code",
   "execution_count": null,
   "id": "c870734e-814e-4682-b2b1-73b0ee52cdc2",
   "metadata": {},
   "outputs": [],
   "source": [
    "# Function to rank resumes based on job description\n",
    "\n",
    "def rank_resumes(job_description, resumes):\n",
    "    documents = [job_description] + resumes\n",
    "    vectorizer = TfidfVectorizer().fit_transform(documents)\n",
    "    vectors = vectorizer.toarray()\n",
    "    job_description_vector = vectors[0]\n",
    "    resume_vectors = vectors[1:]\n",
    "    cosine_similarities = cosine_similarity([job_description_vector], resume_vectors).flatten()\n",
    "    return cosine_similarities\n"
   ]
  },
  {
   "cell_type": "code",
   "execution_count": null,
   "id": "f2f5e93b-dbcd-4c54-ae91-7cc8ad947258",
   "metadata": {},
   "outputs": [],
   "source": [
    "# Streamlit app\n",
    "st.title(\"AI Resume Screening & Candidate Ranking System - By PRANAV PATIL\")\n",
    "# Job description input\n",
    "st.header(\"Job Description\")\n",
    "job_description = st.text_area(\"Enter the job description\")"
   ]
  },
  {
   "cell_type": "code",
   "execution_count": null,
   "id": "626d92c0-62cd-4360-a4b4-23eea34d6668",
   "metadata": {},
   "outputs": [],
   "source": [
    "# File uploader\n",
    "st.header(\"Upload Resumes\")\n",
    "uploaded_files = st.file_uploader(\"Upload PDF files\", type=[\"pdf\"], accept_multiple_files=True)"
   ]
  },
  {
   "cell_type": "code",
   "execution_count": null,
   "id": "270e93c1-9a84-4609-86e5-db0502275a95",
   "metadata": {},
   "outputs": [],
   "source": [
    "if uploaded_files and job_description:\n",
    "st.header(\"Ranking Resumes\")\n",
    "resumes = [extract_text_from_pdf(file) for file in uploaded_files]\n",
    "scores = rank_resumes(job_description, resumes)\n",
    "    \n",
    "# DataFrame to display results\n",
    "results = pd.DataFrame({\"Resume\": [file.name for file in uploaded_files], \"Score\": scores})\n",
    "results = results.sort_values(by=\"Score\", ascending=False)\n",
    " # Show ranking table\n",
    "st.dataframe(results)\n"
   ]
  },
  {
   "cell_type": "code",
   "execution_count": null,
   "id": "0a8f7ed6-44b8-4cc7-a0cb-2148df51630c",
   "metadata": {},
   "outputs": [],
   "source": [
    " # Highlight Resume Score Changes\n",
    "st.subheader(\"Resume Score Progress\")\n",
    "    for i, row in results.iterrows():\n",
    "        st.metric(label=row[\"Resume\"], value=f\"{row['Score']:.2f}\")"
   ]
  },
  {
   "cell_type": "code",
   "execution_count": null,
   "id": "71a1444a-1293-410d-abac-4e4a1204db46",
   "metadata": {},
   "outputs": [],
   "source": [
    "# Section-wise Score Breakdown (Placeholder Data)\n",
    "st.subheader(\"Section-wise Score Breakdown\")\n",
    "categories = [\"Skills\", \"Experience\", \"Formatting\", \"Relevance\"]\n",
    "scores = [20, 30, 25, 25]  # Example scores\n",
    "fig, ax = plt.subplots()\n",
    "ax.bar(categories, scores, color=['blue', 'green', 'orange', 'red'])\n",
    "st.pyplot(fig)"
   ]
  },
  {
   "cell_type": "code",
   "execution_count": null,
   "id": "db0d8b68-1b30-43e6-a168-3504c4cd6d59",
   "metadata": {},
   "outputs": [],
   "source": [
    " # Interactive Resume Insights\n",
    "with st.expander(\"What You Can Improve\"):\n",
    "st.write(\"- Add more relevant skills.\")\n",
    "st.write(\"- Improve formatting consistency.\")\n",
    "st.write(\"- Highlight key achievements.\")"
   ]
  },
  {
   "cell_type": "code",
   "execution_count": null,
   "id": "af4b561e-d5c5-4c18-9e57-82c6b470755e",
   "metadata": {},
   "outputs": [],
   "source": [
    " # Resume Leaderboard\n",
    "st.subheader(\"Resume Leaderboard\")\n",
    "results[\"Rank\"] = range(1, len(results) + 1)\n",
    "st.dataframe(results.sort_values(by=\"Score\", ascending=False))"
   ]
  },
  {
   "cell_type": "code",
   "execution_count": null,
   "id": "b1691910-a0d1-4ad5-b96b-66a13e17abff",
   "metadata": {},
   "outputs": [],
   "source": [
    "# Save Resume Progress\n",
    "st.download_button(\"Download Report\", data=results.to_csv(), file_name=\"resume_ranking_report.csv\", mime=\"text/csv\")"
   ]
  }
 ],
 "metadata": {
  "kernelspec": {
   "display_name": "Python 3 (ipykernel)",
   "language": "python",
   "name": "python3"
  },
  "language_info": {
   "codemirror_mode": {
    "name": "ipython",
    "version": 3
   },
   "file_extension": ".py",
   "mimetype": "text/x-python",
   "name": "python",
   "nbconvert_exporter": "python",
   "pygments_lexer": "ipython3",
   "version": "3.12.4"
  }
 },
 "nbformat": 4,
 "nbformat_minor": 5
}
